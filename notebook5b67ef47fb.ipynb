{
 "cells": [
  {
   "cell_type": "code",
   "execution_count": 1,
   "id": "eb682d86",
   "metadata": {
    "_cell_guid": "b1076dfc-b9ad-4769-8c92-a6c4dae69d19",
    "_uuid": "8f2839f25d086af736a60e9eeb907d3b93b6e0e5",
    "execution": {
     "iopub.execute_input": "2023-01-16T02:52:02.132478Z",
     "iopub.status.busy": "2023-01-16T02:52:02.132045Z",
     "iopub.status.idle": "2023-01-16T02:52:02.149307Z",
     "shell.execute_reply": "2023-01-16T02:52:02.148331Z"
    },
    "papermill": {
     "duration": 0.025829,
     "end_time": "2023-01-16T02:52:02.152046",
     "exception": false,
     "start_time": "2023-01-16T02:52:02.126217",
     "status": "completed"
    },
    "tags": []
   },
   "outputs": [
    {
     "name": "stdout",
     "output_type": "stream",
     "text": [
      "/kaggle/input/tashkent-real-estate-2019/uybor.xlsx\n"
     ]
    }
   ],
   "source": [
    "# This Python 3 environment comes with many helpful analytics libraries installed\n",
    "# It is defined by the kaggle/python Docker image: https://github.com/kaggle/docker-python\n",
    "# For example, here's several helpful packages to load\n",
    "\n",
    "import numpy as np # linear algebra\n",
    "import pandas as pd # data processing, CSV file I/O (e.g. pd.read_csv)\n",
    "\n",
    "# Input data files are available in the read-only \"../input/\" directory\n",
    "# For example, running this (by clicking run or pressing Shift+Enter) will list all files under the input directory\n",
    "\n",
    "import os\n",
    "for dirname, _, filenames in os.walk('/kaggle/input'):\n",
    "    for filename in filenames:\n",
    "        print(os.path.join(dirname, filename))\n",
    "\n",
    "# You can write up to 20GB to the current directory (/kaggle/working/) that gets preserved as output when you create a version using \"Save & Run All\" \n",
    "# You can also write temporary files to /kaggle/temp/, but they won't be saved outside of the current session"
   ]
  },
  {
   "cell_type": "code",
   "execution_count": 2,
   "id": "38ee02f1",
   "metadata": {
    "execution": {
     "iopub.execute_input": "2023-01-16T02:52:02.160043Z",
     "iopub.status.busy": "2023-01-16T02:52:02.159603Z",
     "iopub.status.idle": "2023-01-16T02:52:03.790500Z",
     "shell.execute_reply": "2023-01-16T02:52:03.788069Z"
    },
    "papermill": {
     "duration": 1.637826,
     "end_time": "2023-01-16T02:52:03.793118",
     "exception": false,
     "start_time": "2023-01-16T02:52:02.155292",
     "status": "completed"
    },
    "tags": []
   },
   "outputs": [
    {
     "data": {
      "text/html": [
       "<div>\n",
       "<style scoped>\n",
       "    .dataframe tbody tr th:only-of-type {\n",
       "        vertical-align: middle;\n",
       "    }\n",
       "\n",
       "    .dataframe tbody tr th {\n",
       "        vertical-align: top;\n",
       "    }\n",
       "\n",
       "    .dataframe thead th {\n",
       "        text-align: right;\n",
       "    }\n",
       "</style>\n",
       "<table border=\"1\" class=\"dataframe\">\n",
       "  <thead>\n",
       "    <tr style=\"text-align: right;\">\n",
       "      <th></th>\n",
       "      <th>address</th>\n",
       "      <th>district</th>\n",
       "      <th>rooms</th>\n",
       "      <th>size</th>\n",
       "      <th>level</th>\n",
       "      <th>max_levels</th>\n",
       "      <th>price</th>\n",
       "      <th>lat</th>\n",
       "      <th>lng</th>\n",
       "    </tr>\n",
       "  </thead>\n",
       "  <tbody>\n",
       "    <tr>\n",
       "      <th>0</th>\n",
       "      <td>город Ташкент, Yunusobod район, Юнусабад 8-й к...</td>\n",
       "      <td>Yunusobod</td>\n",
       "      <td>3</td>\n",
       "      <td>57.0</td>\n",
       "      <td>4</td>\n",
       "      <td>4</td>\n",
       "      <td>52000</td>\n",
       "      <td>41.371471</td>\n",
       "      <td>69.281049</td>\n",
       "    </tr>\n",
       "    <tr>\n",
       "      <th>1</th>\n",
       "      <td>город Ташкент, Yakkasaroy район, 1-й тупик Шот...</td>\n",
       "      <td>Yakkasaroy</td>\n",
       "      <td>2</td>\n",
       "      <td>52.0</td>\n",
       "      <td>4</td>\n",
       "      <td>5</td>\n",
       "      <td>56000</td>\n",
       "      <td>41.291115</td>\n",
       "      <td>69.261104</td>\n",
       "    </tr>\n",
       "    <tr>\n",
       "      <th>2</th>\n",
       "      <td>город Ташкент, Chilonzor район, Чиланзар 2-й к...</td>\n",
       "      <td>Chilonzor</td>\n",
       "      <td>2</td>\n",
       "      <td>42.0</td>\n",
       "      <td>4</td>\n",
       "      <td>4</td>\n",
       "      <td>37000</td>\n",
       "      <td>41.280784</td>\n",
       "      <td>69.223683</td>\n",
       "    </tr>\n",
       "    <tr>\n",
       "      <th>3</th>\n",
       "      <td>город Ташкент, Chilonzor район, Чиланзар 9-й к...</td>\n",
       "      <td>Chilonzor</td>\n",
       "      <td>3</td>\n",
       "      <td>65.0</td>\n",
       "      <td>1</td>\n",
       "      <td>4</td>\n",
       "      <td>49500</td>\n",
       "      <td>41.290163</td>\n",
       "      <td>69.196862</td>\n",
       "    </tr>\n",
       "    <tr>\n",
       "      <th>4</th>\n",
       "      <td>город Ташкент, Chilonzor район, площадь Актепа</td>\n",
       "      <td>Chilonzor</td>\n",
       "      <td>3</td>\n",
       "      <td>70.0</td>\n",
       "      <td>3</td>\n",
       "      <td>5</td>\n",
       "      <td>55000</td>\n",
       "      <td>41.300156</td>\n",
       "      <td>69.210831</td>\n",
       "    </tr>\n",
       "  </tbody>\n",
       "</table>\n",
       "</div>"
      ],
      "text/plain": [
       "                                             address    district  rooms  size  \\\n",
       "0  город Ташкент, Yunusobod район, Юнусабад 8-й к...   Yunusobod      3  57.0   \n",
       "1  город Ташкент, Yakkasaroy район, 1-й тупик Шот...  Yakkasaroy      2  52.0   \n",
       "2  город Ташкент, Chilonzor район, Чиланзар 2-й к...   Chilonzor      2  42.0   \n",
       "3  город Ташкент, Chilonzor район, Чиланзар 9-й к...   Chilonzor      3  65.0   \n",
       "4     город Ташкент, Chilonzor район, площадь Актепа   Chilonzor      3  70.0   \n",
       "\n",
       "   level  max_levels  price        lat        lng  \n",
       "0      4           4  52000  41.371471  69.281049  \n",
       "1      4           5  56000  41.291115  69.261104  \n",
       "2      4           4  37000  41.280784  69.223683  \n",
       "3      1           4  49500  41.290163  69.196862  \n",
       "4      3           5  55000  41.300156  69.210831  "
      ]
     },
     "execution_count": 2,
     "metadata": {},
     "output_type": "execute_result"
    }
   ],
   "source": [
    "df=pd.read_excel('/kaggle/input/tashkent-real-estate-2019/uybor.xlsx')\n",
    "df.head()"
   ]
  },
  {
   "cell_type": "code",
   "execution_count": 3,
   "id": "a1ca05c3",
   "metadata": {
    "execution": {
     "iopub.execute_input": "2023-01-16T02:52:03.800861Z",
     "iopub.status.busy": "2023-01-16T02:52:03.800480Z",
     "iopub.status.idle": "2023-01-16T02:52:03.847604Z",
     "shell.execute_reply": "2023-01-16T02:52:03.846517Z"
    },
    "papermill": {
     "duration": 0.053751,
     "end_time": "2023-01-16T02:52:03.850086",
     "exception": false,
     "start_time": "2023-01-16T02:52:03.796335",
     "status": "completed"
    },
    "tags": []
   },
   "outputs": [
    {
     "data": {
      "text/html": [
       "<div>\n",
       "<style scoped>\n",
       "    .dataframe tbody tr th:only-of-type {\n",
       "        vertical-align: middle;\n",
       "    }\n",
       "\n",
       "    .dataframe tbody tr th {\n",
       "        vertical-align: top;\n",
       "    }\n",
       "\n",
       "    .dataframe thead th {\n",
       "        text-align: right;\n",
       "    }\n",
       "</style>\n",
       "<table border=\"1\" class=\"dataframe\">\n",
       "  <thead>\n",
       "    <tr style=\"text-align: right;\">\n",
       "      <th></th>\n",
       "      <th>rooms</th>\n",
       "      <th>size</th>\n",
       "      <th>level</th>\n",
       "      <th>max_levels</th>\n",
       "      <th>price</th>\n",
       "      <th>lat</th>\n",
       "      <th>lng</th>\n",
       "    </tr>\n",
       "  </thead>\n",
       "  <tbody>\n",
       "    <tr>\n",
       "      <th>count</th>\n",
       "      <td>7421.000000</td>\n",
       "      <td>7421.000000</td>\n",
       "      <td>7421.000000</td>\n",
       "      <td>7421.000000</td>\n",
       "      <td>7421.000000</td>\n",
       "      <td>7421.000000</td>\n",
       "      <td>7421.000000</td>\n",
       "    </tr>\n",
       "    <tr>\n",
       "      <th>mean</th>\n",
       "      <td>2.619728</td>\n",
       "      <td>73.150726</td>\n",
       "      <td>3.699367</td>\n",
       "      <td>6.031397</td>\n",
       "      <td>59117.618919</td>\n",
       "      <td>41.303620</td>\n",
       "      <td>69.256615</td>\n",
       "    </tr>\n",
       "    <tr>\n",
       "      <th>std</th>\n",
       "      <td>1.076887</td>\n",
       "      <td>36.999670</td>\n",
       "      <td>2.239028</td>\n",
       "      <td>2.607673</td>\n",
       "      <td>46701.090308</td>\n",
       "      <td>0.033771</td>\n",
       "      <td>0.059061</td>\n",
       "    </tr>\n",
       "    <tr>\n",
       "      <th>min</th>\n",
       "      <td>1.000000</td>\n",
       "      <td>14.000000</td>\n",
       "      <td>1.000000</td>\n",
       "      <td>1.000000</td>\n",
       "      <td>10500.000000</td>\n",
       "      <td>41.186375</td>\n",
       "      <td>69.148915</td>\n",
       "    </tr>\n",
       "    <tr>\n",
       "      <th>25%</th>\n",
       "      <td>2.000000</td>\n",
       "      <td>50.000000</td>\n",
       "      <td>2.000000</td>\n",
       "      <td>4.000000</td>\n",
       "      <td>35000.000000</td>\n",
       "      <td>41.281265</td>\n",
       "      <td>69.205802</td>\n",
       "    </tr>\n",
       "    <tr>\n",
       "      <th>50%</th>\n",
       "      <td>3.000000</td>\n",
       "      <td>65.000000</td>\n",
       "      <td>3.000000</td>\n",
       "      <td>5.000000</td>\n",
       "      <td>46500.000000</td>\n",
       "      <td>41.296388</td>\n",
       "      <td>69.260189</td>\n",
       "    </tr>\n",
       "    <tr>\n",
       "      <th>75%</th>\n",
       "      <td>3.000000</td>\n",
       "      <td>85.000000</td>\n",
       "      <td>5.000000</td>\n",
       "      <td>9.000000</td>\n",
       "      <td>66847.000000</td>\n",
       "      <td>41.324956</td>\n",
       "      <td>69.293713</td>\n",
       "    </tr>\n",
       "    <tr>\n",
       "      <th>max</th>\n",
       "      <td>10.000000</td>\n",
       "      <td>456.000000</td>\n",
       "      <td>19.000000</td>\n",
       "      <td>25.000000</td>\n",
       "      <td>800000.000000</td>\n",
       "      <td>41.424522</td>\n",
       "      <td>69.588687</td>\n",
       "    </tr>\n",
       "  </tbody>\n",
       "</table>\n",
       "</div>"
      ],
      "text/plain": [
       "             rooms         size        level   max_levels          price  \\\n",
       "count  7421.000000  7421.000000  7421.000000  7421.000000    7421.000000   \n",
       "mean      2.619728    73.150726     3.699367     6.031397   59117.618919   \n",
       "std       1.076887    36.999670     2.239028     2.607673   46701.090308   \n",
       "min       1.000000    14.000000     1.000000     1.000000   10500.000000   \n",
       "25%       2.000000    50.000000     2.000000     4.000000   35000.000000   \n",
       "50%       3.000000    65.000000     3.000000     5.000000   46500.000000   \n",
       "75%       3.000000    85.000000     5.000000     9.000000   66847.000000   \n",
       "max      10.000000   456.000000    19.000000    25.000000  800000.000000   \n",
       "\n",
       "               lat          lng  \n",
       "count  7421.000000  7421.000000  \n",
       "mean     41.303620    69.256615  \n",
       "std       0.033771     0.059061  \n",
       "min      41.186375    69.148915  \n",
       "25%      41.281265    69.205802  \n",
       "50%      41.296388    69.260189  \n",
       "75%      41.324956    69.293713  \n",
       "max      41.424522    69.588687  "
      ]
     },
     "execution_count": 3,
     "metadata": {},
     "output_type": "execute_result"
    }
   ],
   "source": [
    "df.describe()"
   ]
  },
  {
   "cell_type": "code",
   "execution_count": 4,
   "id": "9ef169cb",
   "metadata": {
    "execution": {
     "iopub.execute_input": "2023-01-16T02:52:03.858358Z",
     "iopub.status.busy": "2023-01-16T02:52:03.857948Z",
     "iopub.status.idle": "2023-01-16T02:52:04.975834Z",
     "shell.execute_reply": "2023-01-16T02:52:04.974452Z"
    },
    "papermill": {
     "duration": 1.1257,
     "end_time": "2023-01-16T02:52:04.979099",
     "exception": false,
     "start_time": "2023-01-16T02:52:03.853399",
     "status": "completed"
    },
    "tags": []
   },
   "outputs": [],
   "source": [
    "import matplotlib.pyplot as plt\n",
    "import seaborn as sns"
   ]
  },
  {
   "cell_type": "code",
   "execution_count": 5,
   "id": "5b7a6625",
   "metadata": {
    "execution": {
     "iopub.execute_input": "2023-01-16T02:52:04.988188Z",
     "iopub.status.busy": "2023-01-16T02:52:04.987677Z",
     "iopub.status.idle": "2023-01-16T02:52:05.619843Z",
     "shell.execute_reply": "2023-01-16T02:52:05.618500Z"
    },
    "papermill": {
     "duration": 0.639718,
     "end_time": "2023-01-16T02:52:05.622444",
     "exception": false,
     "start_time": "2023-01-16T02:52:04.982726",
     "status": "completed"
    },
    "tags": []
   },
   "outputs": [
    {
     "data": {
      "image/png": "[encoded data removed]",
      "text/plain": [
       "<Figure size 720x576 with 1 Axes>"
      ]
     },
     "metadata": {
      "needs_background": "light"
     },
     "output_type": "display_data"
    }
   ],
   "source": [
    "plt.figure(figsize=(10,8))\n",
    "sns.barplot(data=df,x='district',y='price')\n",
    "plt.show()"
   ]
  },
  {
   "cell_type": "code",
   "execution_count": 6,
   "id": "8e7c94e6",
   "metadata": {
    "execution": {
     "iopub.execute_input": "2023-01-16T02:52:05.632178Z",
     "iopub.status.busy": "2023-01-16T02:52:05.631733Z",
     "iopub.status.idle": "2023-01-16T02:52:06.324927Z",
     "shell.execute_reply": "2023-01-16T02:52:06.323732Z"
    },
    "papermill": {
     "duration": 0.700543,
     "end_time": "2023-01-16T02:52:06.327449",
     "exception": false,
     "start_time": "2023-01-16T02:52:05.626906",
     "status": "completed"
    },
    "tags": []
   },
   "outputs": [
    {
     "data": {
      "image/png": "[encoded data removed]",
      "text/plain": [
       "<Figure size 720x576 with 1 Axes>"
      ]
     },
     "metadata": {
      "needs_background": "light"
     },
     "output_type": "display_data"
    }
   ],
   "source": [
    "plt.figure(figsize=(10,8))\n",
    "sns.histplot(data=df,x='price')\n",
    "plt.show()"
   ]
  },
  {
   "cell_type": "code",
   "execution_count": null,
   "id": "f8018024",
   "metadata": {
    "papermill": {
     "duration": 0.003661,
     "end_time": "2023-01-16T02:52:06.335121",
     "exception": false,
     "start_time": "2023-01-16T02:52:06.331460",
     "status": "completed"
    },
    "tags": []
   },
   "outputs": [],
   "source": []
  }
 ],
 "metadata": {
  "kernelspec": {
   "display_name": "Python 3",
   "language": "python",
   "name": "python3"
  },
  "language_info": {
   "codemirror_mode": {
    "name": "ipython",
    "version": 3
   },
   "file_extension": ".py",
   "mimetype": "text/x-python",
   "name": "python",
   "nbconvert_exporter": "python",
   "pygments_lexer": "ipython3",
   "version": "3.7.12"
  },
  "papermill": {
   "default_parameters": {},
   "duration": 14.183003,
   "end_time": "2023-01-16T02:52:07.161927",
   "environment_variables": {},
   "exception": null,
   "input_path": "__notebook__.ipynb",
   "output_path": "__notebook__.ipynb",
   "parameters": {},
   "start_time": "2023-01-16T02:51:52.978924",
   "version": "2.3.4"
  }
 },
 "nbformat": 4,
 "nbformat_minor": 5
}
